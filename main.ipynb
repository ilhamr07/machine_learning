{
 "cells": [
  {
   "cell_type": "code",
   "execution_count": null,
   "id": "e16da1b3",
   "metadata": {},
   "outputs": [],
   "source": [
    "import sklearn\n",
    "print(\"Scikit-learn imported successfully!\")"
   ]
  }
 ],
 "metadata": {
  "kernelspec": {
   "display_name": "Python 3",
   "language": "python",
   "name": "python3"
  },
  "language_info": {
   "name": "python",
   "version": "3.13.2"
  }
 },
 "nbformat": 4,
 "nbformat_minor": 5
}
