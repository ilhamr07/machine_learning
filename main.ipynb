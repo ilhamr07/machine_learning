{
 "cells": [
  {
   "cell_type": "code",
   "execution_count": 39,
   "id": "e16da1b3",
   "metadata": {},
   "outputs": [
    {
     "name": "stdout",
     "output_type": "stream",
     "text": [
      "Scikit-learn imported successfully!\n"
     ]
    }
   ],
   "source": [
    "import sklearn\n",
    "print(\"Scikit-learn imported successfully!\")"
   ]
  },
  {
   "cell_type": "code",
   "execution_count": 40,
   "id": "1cb38a32",
   "metadata": {},
   "outputs": [],
   "source": [
    "import pandas as pd\n",
    "\n",
    "\n"
   ]
  },
  {
   "cell_type": "code",
   "execution_count": 41,
   "id": "47aedd4c",
   "metadata": {},
   "outputs": [
    {
     "name": "stdout",
     "output_type": "stream",
     "text": [
      "          Nama Perusahaan                                            Layanan\n",
      "0  PT WISATA SAPTA PESONA                                 INTERNET CORPORATE\n",
      "1  PT WISATA SAPTA PESONA  INTERNET CORPORATE / PENAMBAHAN IPV4 PUBLIK IN...\n",
      "2  PT WISATA SAPTA PESONA  INTERNET CORPORATE / PENAMBAHAN IPV4 PUBLIK IN...\n",
      "3  PT WISATA SAPTA PESONA  INTERNET CORPORATE / PROFESIONAL SERVICE WHITE...\n",
      "4  PT WISATA SAPTA PESONA  INTERNET CORPORATE / PROFESIONAL SERVICE WHITE...\n"
     ]
    }
   ],
   "source": [
    "#Membaca File Excel\n",
    "df = pd.read_excel('data-test.xlsx')\n",
    "print(df.head(5))\n"
   ]
  },
  {
   "cell_type": "code",
   "execution_count": 42,
   "id": "e2a8d1bd",
   "metadata": {},
   "outputs": [
    {
     "name": "stdout",
     "output_type": "stream",
     "text": [
      "0         False\n",
      "1         False\n",
      "2          True\n",
      "3         False\n",
      "4          True\n",
      "          ...  \n",
      "845471     True\n",
      "845472     True\n",
      "845473     True\n",
      "845474    False\n",
      "845475     True\n",
      "Length: 845476, dtype: bool\n"
     ]
    }
   ],
   "source": [
    "#Memeriksa duplicate\n",
    "#kita hanya butuh cek 1x aja produk tersebut di order apa tidak\n",
    "\n",
    "is_df_duplicate= df.duplicated()\n",
    "print(is_df_duplicate)\n",
    "\n"
   ]
  },
  {
   "cell_type": "code",
   "execution_count": 43,
   "id": "ebe689a1",
   "metadata": {},
   "outputs": [
    {
     "name": "stdout",
     "output_type": "stream",
     "text": [
      "                                          Nama Perusahaan  \\\n",
      "0                                  PT WISATA SAPTA PESONA   \n",
      "1                                  PT WISATA SAPTA PESONA   \n",
      "3                                  PT WISATA SAPTA PESONA   \n",
      "5                             PT. CIMB NIAGA AUTO FINANCE   \n",
      "6                             PT. CIMB NIAGA AUTO FINANCE   \n",
      "...                                                   ...   \n",
      "845445  BADAN PENGELOLAAN KEUANGAN DAN ASET DAERAH KOT...   \n",
      "845447  BADAN KEPEGAWAIAN DAN PENGEMBANGAN SUMBER DAYA...   \n",
      "845456                                    ZOOM BPN SULSEL   \n",
      "845457                     DISKOMINFO KABUPATEN GORONTALO   \n",
      "845474                                PT. ELNUSA PETROFIN   \n",
      "\n",
      "                                                  Layanan  \n",
      "0                                      INTERNET CORPORATE  \n",
      "1       INTERNET CORPORATE / PENAMBAHAN IPV4 PUBLIK IN...  \n",
      "3       INTERNET CORPORATE / PROFESIONAL SERVICE WHITE...  \n",
      "5       INTERNET CORPORATE / PROFESIONAL SERVICE WHITE...  \n",
      "6                                      INTERNET CORPORATE  \n",
      "...                                                   ...  \n",
      "845445                                                NaN  \n",
      "845447                                                NaN  \n",
      "845456                                                NaN  \n",
      "845457                                                NaN  \n",
      "845474                                                NaN  \n",
      "\n",
      "[21165 rows x 2 columns]\n"
     ]
    }
   ],
   "source": [
    "#menghapus baris duplikat\n",
    "\n",
    "df_no_duplicates = df.drop_duplicates()\n",
    "print(df_no_duplicates)"
   ]
  },
  {
   "cell_type": "code",
   "execution_count": 44,
   "id": "55bc791b",
   "metadata": {},
   "outputs": [
    {
     "data": {
      "text/html": [
       "<div>\n",
       "<style scoped>\n",
       "    .dataframe tbody tr th:only-of-type {\n",
       "        vertical-align: middle;\n",
       "    }\n",
       "\n",
       "    .dataframe tbody tr th {\n",
       "        vertical-align: top;\n",
       "    }\n",
       "\n",
       "    .dataframe thead th {\n",
       "        text-align: right;\n",
       "    }\n",
       "</style>\n",
       "<table border=\"1\" class=\"dataframe\">\n",
       "  <thead>\n",
       "    <tr style=\"text-align: right;\">\n",
       "      <th></th>\n",
       "      <th>Nama Perusahaan</th>\n",
       "      <th>Layanan</th>\n",
       "    </tr>\n",
       "  </thead>\n",
       "  <tbody>\n",
       "    <tr>\n",
       "      <th>0</th>\n",
       "      <td>PT WISATA SAPTA PESONA</td>\n",
       "      <td>INTERNET CORPORATE</td>\n",
       "    </tr>\n",
       "    <tr>\n",
       "      <th>1</th>\n",
       "      <td>PT WISATA SAPTA PESONA</td>\n",
       "      <td>INTERNET CORPORATE / PENAMBAHAN IPV4 PUBLIK IN...</td>\n",
       "    </tr>\n",
       "    <tr>\n",
       "      <th>3</th>\n",
       "      <td>PT WISATA SAPTA PESONA</td>\n",
       "      <td>INTERNET CORPORATE / PROFESIONAL SERVICE WHITE...</td>\n",
       "    </tr>\n",
       "    <tr>\n",
       "      <th>5</th>\n",
       "      <td>PT. CIMB NIAGA AUTO FINANCE</td>\n",
       "      <td>INTERNET CORPORATE / PROFESIONAL SERVICE WHITE...</td>\n",
       "    </tr>\n",
       "    <tr>\n",
       "      <th>6</th>\n",
       "      <td>PT. CIMB NIAGA AUTO FINANCE</td>\n",
       "      <td>INTERNET CORPORATE</td>\n",
       "    </tr>\n",
       "    <tr>\n",
       "      <th>7</th>\n",
       "      <td>PT. CIMB NIAGA AUTO FINANCE</td>\n",
       "      <td>INTERNET CORPORATE / PENAMBAHAN IPV4 PUBLIK IN...</td>\n",
       "    </tr>\n",
       "    <tr>\n",
       "      <th>8</th>\n",
       "      <td>PT. CIMB NIAGA AUTO FINANCE</td>\n",
       "      <td>METRONET</td>\n",
       "    </tr>\n",
       "    <tr>\n",
       "      <th>9</th>\n",
       "      <td>PT. LAUTAN NATURAL KRIMERINDO</td>\n",
       "      <td>METRONET</td>\n",
       "    </tr>\n",
       "    <tr>\n",
       "      <th>11</th>\n",
       "      <td>PT. LAUTAN NATURAL KRIMERINDO</td>\n",
       "      <td>INTERNET BROADBAND CORPORATE</td>\n",
       "    </tr>\n",
       "    <tr>\n",
       "      <th>20</th>\n",
       "      <td>PT. CENTRAL AVIAN PERTIWI</td>\n",
       "      <td>METRONET</td>\n",
       "    </tr>\n",
       "    <tr>\n",
       "      <th>21</th>\n",
       "      <td>PT. CHAROEN POKPHAND JAYA FARM</td>\n",
       "      <td>METRONET</td>\n",
       "    </tr>\n",
       "    <tr>\n",
       "      <th>24</th>\n",
       "      <td>PT. TELKOM INDONESIA (PERSERO) TBK</td>\n",
       "      <td>METRONET</td>\n",
       "    </tr>\n",
       "    <tr>\n",
       "      <th>30</th>\n",
       "      <td>PT. TELKOM INDONESIA (PERSERO) TBK</td>\n",
       "      <td>INTERNET BROADBAND CORPORATE</td>\n",
       "    </tr>\n",
       "    <tr>\n",
       "      <th>32</th>\n",
       "      <td>PT. TELKOM INDONESIA (PERSERO) TBK</td>\n",
       "      <td>METRONET / QINQ METRO ETHERNET</td>\n",
       "    </tr>\n",
       "    <tr>\n",
       "      <th>37</th>\n",
       "      <td>PT. TELKOM INDONESIA (PERSERO) TBK</td>\n",
       "      <td>INTERNET CORPORATE</td>\n",
       "    </tr>\n",
       "    <tr>\n",
       "      <th>39</th>\n",
       "      <td>PT. TELKOM INDONESIA (PERSERO) TBK</td>\n",
       "      <td>PAYMENT GATEWAY / ICONPAY</td>\n",
       "    </tr>\n",
       "    <tr>\n",
       "      <th>125</th>\n",
       "      <td>PT. TELKOM INDONESIA (PERSERO) TBK</td>\n",
       "      <td>INTERNET CORPORATE / PENAMBAHAN IPV4 PUBLIK IN...</td>\n",
       "    </tr>\n",
       "    <tr>\n",
       "      <th>126</th>\n",
       "      <td>PT. TELKOM INDONESIA (PERSERO) TBK</td>\n",
       "      <td>LAIN/LAIN</td>\n",
       "    </tr>\n",
       "    <tr>\n",
       "      <th>204</th>\n",
       "      <td>PT. TELKOM INDONESIA (PERSERO) TBK</td>\n",
       "      <td>MANAGED SERVICE ROUTER  / MANAGE SERVICE ROUTE...</td>\n",
       "    </tr>\n",
       "    <tr>\n",
       "      <th>228</th>\n",
       "      <td>PT. TELKOM INDONESIA (PERSERO) TBK</td>\n",
       "      <td>I/WIN / MANAGE SERVICE WIFI / I/WIN MEDIUM</td>\n",
       "    </tr>\n",
       "  </tbody>\n",
       "</table>\n",
       "</div>"
      ],
      "text/plain": [
       "                        Nama Perusahaan  \\\n",
       "0                PT WISATA SAPTA PESONA   \n",
       "1                PT WISATA SAPTA PESONA   \n",
       "3                PT WISATA SAPTA PESONA   \n",
       "5           PT. CIMB NIAGA AUTO FINANCE   \n",
       "6           PT. CIMB NIAGA AUTO FINANCE   \n",
       "7           PT. CIMB NIAGA AUTO FINANCE   \n",
       "8           PT. CIMB NIAGA AUTO FINANCE   \n",
       "9         PT. LAUTAN NATURAL KRIMERINDO   \n",
       "11        PT. LAUTAN NATURAL KRIMERINDO   \n",
       "20            PT. CENTRAL AVIAN PERTIWI   \n",
       "21       PT. CHAROEN POKPHAND JAYA FARM   \n",
       "24   PT. TELKOM INDONESIA (PERSERO) TBK   \n",
       "30   PT. TELKOM INDONESIA (PERSERO) TBK   \n",
       "32   PT. TELKOM INDONESIA (PERSERO) TBK   \n",
       "37   PT. TELKOM INDONESIA (PERSERO) TBK   \n",
       "39   PT. TELKOM INDONESIA (PERSERO) TBK   \n",
       "125  PT. TELKOM INDONESIA (PERSERO) TBK   \n",
       "126  PT. TELKOM INDONESIA (PERSERO) TBK   \n",
       "204  PT. TELKOM INDONESIA (PERSERO) TBK   \n",
       "228  PT. TELKOM INDONESIA (PERSERO) TBK   \n",
       "\n",
       "                                               Layanan  \n",
       "0                                   INTERNET CORPORATE  \n",
       "1    INTERNET CORPORATE / PENAMBAHAN IPV4 PUBLIK IN...  \n",
       "3    INTERNET CORPORATE / PROFESIONAL SERVICE WHITE...  \n",
       "5    INTERNET CORPORATE / PROFESIONAL SERVICE WHITE...  \n",
       "6                                   INTERNET CORPORATE  \n",
       "7    INTERNET CORPORATE / PENAMBAHAN IPV4 PUBLIK IN...  \n",
       "8                                             METRONET  \n",
       "9                                             METRONET  \n",
       "11                        INTERNET BROADBAND CORPORATE  \n",
       "20                                            METRONET  \n",
       "21                                            METRONET  \n",
       "24                                            METRONET  \n",
       "30                        INTERNET BROADBAND CORPORATE  \n",
       "32                      METRONET / QINQ METRO ETHERNET  \n",
       "37                                  INTERNET CORPORATE  \n",
       "39                           PAYMENT GATEWAY / ICONPAY  \n",
       "125  INTERNET CORPORATE / PENAMBAHAN IPV4 PUBLIK IN...  \n",
       "126                                          LAIN/LAIN  \n",
       "204  MANAGED SERVICE ROUTER  / MANAGE SERVICE ROUTE...  \n",
       "228         I/WIN / MANAGE SERVICE WIFI / I/WIN MEDIUM  "
      ]
     },
     "execution_count": 44,
     "metadata": {},
     "output_type": "execute_result"
    }
   ],
   "source": [
    "df_no_duplicates.head(20)"
   ]
  },
  {
   "cell_type": "markdown",
   "id": "8947d135",
   "metadata": {},
   "source": [
    "Exploratory Data Analysis (EDA)"
   ]
  },
  {
   "cell_type": "code",
   "execution_count": null,
   "id": "345a57f0",
   "metadata": {},
   "outputs": [],
   "source": [
    "df = df_no_duplicates\n",
    "df"
   ]
  },
  {
   "cell_type": "code",
   "execution_count": 47,
   "id": "48b5ca5b",
   "metadata": {},
   "outputs": [
    {
     "data": {
      "text/plain": [
       "Nama Perusahaan      0\n",
       "Layanan            648\n",
       "dtype: int64"
      ]
     },
     "execution_count": 47,
     "metadata": {},
     "output_type": "execute_result"
    }
   ],
   "source": [
    "df.isnull().sum()"
   ]
  },
  {
   "cell_type": "code",
   "execution_count": 48,
   "id": "d249dc75",
   "metadata": {},
   "outputs": [
    {
     "data": {
      "text/html": [
       "<div>\n",
       "<style scoped>\n",
       "    .dataframe tbody tr th:only-of-type {\n",
       "        vertical-align: middle;\n",
       "    }\n",
       "\n",
       "    .dataframe tbody tr th {\n",
       "        vertical-align: top;\n",
       "    }\n",
       "\n",
       "    .dataframe thead th {\n",
       "        text-align: right;\n",
       "    }\n",
       "</style>\n",
       "<table border=\"1\" class=\"dataframe\">\n",
       "  <thead>\n",
       "    <tr style=\"text-align: right;\">\n",
       "      <th></th>\n",
       "      <th>Nama Perusahaan</th>\n",
       "      <th>Layanan</th>\n",
       "    </tr>\n",
       "  </thead>\n",
       "  <tbody>\n",
       "    <tr>\n",
       "      <th>0</th>\n",
       "      <td>PT WISATA SAPTA PESONA</td>\n",
       "      <td>INTERNET CORPORATE</td>\n",
       "    </tr>\n",
       "    <tr>\n",
       "      <th>1</th>\n",
       "      <td>PT WISATA SAPTA PESONA</td>\n",
       "      <td>INTERNET CORPORATE / PENAMBAHAN IPV4 PUBLIK IN...</td>\n",
       "    </tr>\n",
       "    <tr>\n",
       "      <th>3</th>\n",
       "      <td>PT WISATA SAPTA PESONA</td>\n",
       "      <td>INTERNET CORPORATE / PROFESIONAL SERVICE WHITE...</td>\n",
       "    </tr>\n",
       "    <tr>\n",
       "      <th>5</th>\n",
       "      <td>PT. CIMB NIAGA AUTO FINANCE</td>\n",
       "      <td>INTERNET CORPORATE / PROFESIONAL SERVICE WHITE...</td>\n",
       "    </tr>\n",
       "    <tr>\n",
       "      <th>6</th>\n",
       "      <td>PT. CIMB NIAGA AUTO FINANCE</td>\n",
       "      <td>INTERNET CORPORATE</td>\n",
       "    </tr>\n",
       "    <tr>\n",
       "      <th>...</th>\n",
       "      <td>...</td>\n",
       "      <td>...</td>\n",
       "    </tr>\n",
       "    <tr>\n",
       "      <th>806146</th>\n",
       "      <td>PT. PLN (PERSERO) UNIT INDUK WILAYAH SUMATERA ...</td>\n",
       "      <td>PANIKI PLN / PANIKI MEKAR</td>\n",
       "    </tr>\n",
       "    <tr>\n",
       "      <th>806151</th>\n",
       "      <td>PT. PLN (PERSERO) UNIT INDUK WILAYAH SUMATERA ...</td>\n",
       "      <td>PRODUK DIGITAL / ZOOM</td>\n",
       "    </tr>\n",
       "    <tr>\n",
       "      <th>806184</th>\n",
       "      <td>PT. PLN (PERSERO) UNIT INDUK WILAYAH SUMATERA ...</td>\n",
       "      <td>ONE TIME SERVICE / OTC PENYEDIAAN LAYANAN JARI...</td>\n",
       "    </tr>\n",
       "    <tr>\n",
       "      <th>806185</th>\n",
       "      <td>PT. PLN (PERSERO) UNIT INDUK WILAYAH SUMATERA ...</td>\n",
       "      <td>ONE TIME SERVICE / OTC ALAT JAR (ROUTER, SWITC...</td>\n",
       "    </tr>\n",
       "    <tr>\n",
       "      <th>806213</th>\n",
       "      <td>PT. PLN (PERSERO) UNIT INDUK WILAYAH SUMATERA ...</td>\n",
       "      <td>PRODUK DIGITAL / EV 2 WHEEL</td>\n",
       "    </tr>\n",
       "  </tbody>\n",
       "</table>\n",
       "<p>20517 rows × 2 columns</p>\n",
       "</div>"
      ],
      "text/plain": [
       "                                          Nama Perusahaan  \\\n",
       "0                                  PT WISATA SAPTA PESONA   \n",
       "1                                  PT WISATA SAPTA PESONA   \n",
       "3                                  PT WISATA SAPTA PESONA   \n",
       "5                             PT. CIMB NIAGA AUTO FINANCE   \n",
       "6                             PT. CIMB NIAGA AUTO FINANCE   \n",
       "...                                                   ...   \n",
       "806146  PT. PLN (PERSERO) UNIT INDUK WILAYAH SUMATERA ...   \n",
       "806151  PT. PLN (PERSERO) UNIT INDUK WILAYAH SUMATERA ...   \n",
       "806184  PT. PLN (PERSERO) UNIT INDUK WILAYAH SUMATERA ...   \n",
       "806185  PT. PLN (PERSERO) UNIT INDUK WILAYAH SUMATERA ...   \n",
       "806213  PT. PLN (PERSERO) UNIT INDUK WILAYAH SUMATERA ...   \n",
       "\n",
       "                                                  Layanan  \n",
       "0                                      INTERNET CORPORATE  \n",
       "1       INTERNET CORPORATE / PENAMBAHAN IPV4 PUBLIK IN...  \n",
       "3       INTERNET CORPORATE / PROFESIONAL SERVICE WHITE...  \n",
       "5       INTERNET CORPORATE / PROFESIONAL SERVICE WHITE...  \n",
       "6                                      INTERNET CORPORATE  \n",
       "...                                                   ...  \n",
       "806146                          PANIKI PLN / PANIKI MEKAR  \n",
       "806151                              PRODUK DIGITAL / ZOOM  \n",
       "806184  ONE TIME SERVICE / OTC PENYEDIAAN LAYANAN JARI...  \n",
       "806185  ONE TIME SERVICE / OTC ALAT JAR (ROUTER, SWITC...  \n",
       "806213                        PRODUK DIGITAL / EV 2 WHEEL  \n",
       "\n",
       "[20517 rows x 2 columns]"
      ]
     },
     "execution_count": 48,
     "metadata": {},
     "output_type": "execute_result"
    }
   ],
   "source": [
    "df.dropna()"
   ]
  },
  {
   "cell_type": "code",
   "execution_count": 49,
   "id": "b7f0ae3f",
   "metadata": {},
   "outputs": [
    {
     "data": {
      "text/plain": [
       "Nama Perusahaan      0\n",
       "Layanan            648\n",
       "dtype: int64"
      ]
     },
     "execution_count": 49,
     "metadata": {},
     "output_type": "execute_result"
    }
   ],
   "source": [
    "df.isnull().sum()"
   ]
  },
  {
   "cell_type": "code",
   "execution_count": 58,
   "id": "25c0c9e8",
   "metadata": {},
   "outputs": [],
   "source": [
    "df_cleaned = df.dropna(subset=['Layanan'])"
   ]
  },
  {
   "cell_type": "code",
   "execution_count": null,
   "id": "bb1fed5e",
   "metadata": {},
   "outputs": [],
   "source": [
    "df_cleaned.isnull().sum()\n",
    "\n",
    "df = df_cleaned\n",
    "\n",
    "\n"
   ]
  },
  {
   "cell_type": "code",
   "execution_count": 61,
   "id": "e60b71cb",
   "metadata": {},
   "outputs": [
    {
     "data": {
      "text/plain": [
       "Nama Perusahaan    0\n",
       "Layanan            0\n",
       "dtype: int64"
      ]
     },
     "execution_count": 61,
     "metadata": {},
     "output_type": "execute_result"
    }
   ],
   "source": [
    "df.isnull().sum()"
   ]
  },
  {
   "cell_type": "code",
   "execution_count": 62,
   "id": "d7e20767",
   "metadata": {},
   "outputs": [
    {
     "data": {
      "text/plain": [
       "Nama Perusahaan    4729\n",
       "Layanan             281\n",
       "dtype: int64"
      ]
     },
     "execution_count": 62,
     "metadata": {},
     "output_type": "execute_result"
    }
   ],
   "source": [
    "df.nunique()"
   ]
  },
  {
   "cell_type": "code",
   "execution_count": 64,
   "id": "f4b99a00",
   "metadata": {},
   "outputs": [
    {
     "data": {
      "text/plain": [
       "Nama Perusahaan    object\n",
       "Layanan            object\n",
       "dtype: object"
      ]
     },
     "execution_count": 64,
     "metadata": {},
     "output_type": "execute_result"
    }
   ],
   "source": [
    "df.dtypes"
   ]
  },
  {
   "cell_type": "code",
   "execution_count": 65,
   "id": "a246494f",
   "metadata": {},
   "outputs": [
    {
     "name": "stderr",
     "output_type": "stream",
     "text": [
      "C:\\Users\\ilham.renaldyansyah\\AppData\\Local\\Temp\\ipykernel_23464\\3808257341.py:3: SettingWithCopyWarning: \n",
      "A value is trying to be set on a copy of a slice from a DataFrame.\n",
      "Try using .loc[row_indexer,col_indexer] = value instead\n",
      "\n",
      "See the caveats in the documentation: https://pandas.pydata.org/pandas-docs/stable/user_guide/indexing.html#returning-a-view-versus-a-copy\n",
      "  df['Layanan'] = df['Layanan'].str.replace(r'\\s*/\\s*','/',regex=True)\n"
     ]
    }
   ],
   "source": [
    "#membersihkan layanan menghilangkan spasi di sekitar \"/\"\n",
    "\n",
    "df['Layanan'] = df['Layanan'].str.replace(r'\\s*/\\s*','/',regex=True)\n"
   ]
  },
  {
   "cell_type": "code",
   "execution_count": 66,
   "id": "b6513a3b",
   "metadata": {},
   "outputs": [
    {
     "name": "stderr",
     "output_type": "stream",
     "text": [
      "C:\\Users\\ilham.renaldyansyah\\AppData\\Local\\Temp\\ipykernel_23464\\225446434.py:1: SettingWithCopyWarning: \n",
      "A value is trying to be set on a copy of a slice from a DataFrame.\n",
      "Try using .loc[row_indexer,col_indexer] = value instead\n",
      "\n",
      "See the caveats in the documentation: https://pandas.pydata.org/pandas-docs/stable/user_guide/indexing.html#returning-a-view-versus-a-copy\n",
      "  df['Layanan List']=df['Layanan'].str.split('/')\n"
     ]
    }
   ],
   "source": [
    "df['Layanan List']=df['Layanan'].str.split('/')"
   ]
  },
  {
   "cell_type": "code",
   "execution_count": 68,
   "id": "3cdeae48",
   "metadata": {},
   "outputs": [],
   "source": [
    "df_exploded = df.explode('Layanan List')\n",
    "\n",
    "df_dumies = pd.get_dummies(df_exploded['Layanan List'])"
   ]
  },
  {
   "cell_type": "code",
   "execution_count": 70,
   "id": "6ae8ca36",
   "metadata": {},
   "outputs": [],
   "source": [
    "# 5. Gabungkan dengan nama perusahaan\n",
    "df_final = pd.concat([df_exploded[['Nama Perusahaan']], df_dumies], axis=1)\n"
   ]
  },
  {
   "cell_type": "code",
   "execution_count": 71,
   "id": "7f1ca010",
   "metadata": {},
   "outputs": [],
   "source": [
    "# 6. Group by Nama Perusahaan dan ambil max (jika satu perusahaan punya banyak layanan)\n",
    "df_pivot = df_final.groupby('Nama Perusahaan').max().reset_index()\n"
   ]
  },
  {
   "cell_type": "code",
   "execution_count": 74,
   "id": "45d6e281",
   "metadata": {},
   "outputs": [
    {
     "data": {
      "text/html": [
       "<div>\n",
       "<style scoped>\n",
       "    .dataframe tbody tr th:only-of-type {\n",
       "        vertical-align: middle;\n",
       "    }\n",
       "\n",
       "    .dataframe tbody tr th {\n",
       "        vertical-align: top;\n",
       "    }\n",
       "\n",
       "    .dataframe thead th {\n",
       "        text-align: right;\n",
       "    }\n",
       "</style>\n",
       "<table border=\"1\" class=\"dataframe\">\n",
       "  <thead>\n",
       "    <tr style=\"text-align: right;\">\n",
       "      <th></th>\n",
       "      <th>Nama Perusahaan</th>\n",
       "      <th>10 MBPS</th>\n",
       "      <th>100 MBPS</th>\n",
       "      <th>100MBPS</th>\n",
       "      <th>20 MBPS</th>\n",
       "      <th>50 MBPS</th>\n",
       "      <th>A</th>\n",
       "      <th>ACCESS BROADBAND</th>\n",
       "      <th>ACCESS CORPORATE</th>\n",
       "      <th>ACCESS IIX</th>\n",
       "      <th>...</th>\n",
       "      <th>VOUCHER PLN MOBILE</th>\n",
       "      <th>VPN</th>\n",
       "      <th>WIFI, ETC.)</th>\n",
       "      <th>WIFIN INFRA</th>\n",
       "      <th>WIN</th>\n",
       "      <th>WIN HIGH</th>\n",
       "      <th>WIN MEDIUM</th>\n",
       "      <th>WIN PROJECT BASED</th>\n",
       "      <th>WINDOWS 10 PRO</th>\n",
       "      <th>ZOOM</th>\n",
       "    </tr>\n",
       "  </thead>\n",
       "  <tbody>\n",
       "    <tr>\n",
       "      <th>0</th>\n",
       "      <td>KANTOR PERTANAHAN KAB. PURWOREJO SEKRETARIAT ...</td>\n",
       "      <td>False</td>\n",
       "      <td>False</td>\n",
       "      <td>False</td>\n",
       "      <td>False</td>\n",
       "      <td>False</td>\n",
       "      <td>False</td>\n",
       "      <td>False</td>\n",
       "      <td>False</td>\n",
       "      <td>False</td>\n",
       "      <td>...</td>\n",
       "      <td>False</td>\n",
       "      <td>False</td>\n",
       "      <td>False</td>\n",
       "      <td>False</td>\n",
       "      <td>False</td>\n",
       "      <td>False</td>\n",
       "      <td>False</td>\n",
       "      <td>False</td>\n",
       "      <td>False</td>\n",
       "      <td>False</td>\n",
       "    </tr>\n",
       "    <tr>\n",
       "      <th>1</th>\n",
       "      <td>PT BERKAT KASIH MULIA</td>\n",
       "      <td>False</td>\n",
       "      <td>False</td>\n",
       "      <td>False</td>\n",
       "      <td>False</td>\n",
       "      <td>False</td>\n",
       "      <td>False</td>\n",
       "      <td>False</td>\n",
       "      <td>False</td>\n",
       "      <td>False</td>\n",
       "      <td>...</td>\n",
       "      <td>False</td>\n",
       "      <td>False</td>\n",
       "      <td>False</td>\n",
       "      <td>False</td>\n",
       "      <td>False</td>\n",
       "      <td>False</td>\n",
       "      <td>False</td>\n",
       "      <td>False</td>\n",
       "      <td>False</td>\n",
       "      <td>False</td>\n",
       "    </tr>\n",
       "    <tr>\n",
       "      <th>2</th>\n",
       "      <td>ABID INFOTAMA KOMPUTINDO</td>\n",
       "      <td>False</td>\n",
       "      <td>False</td>\n",
       "      <td>False</td>\n",
       "      <td>False</td>\n",
       "      <td>False</td>\n",
       "      <td>False</td>\n",
       "      <td>False</td>\n",
       "      <td>False</td>\n",
       "      <td>False</td>\n",
       "      <td>...</td>\n",
       "      <td>False</td>\n",
       "      <td>False</td>\n",
       "      <td>False</td>\n",
       "      <td>False</td>\n",
       "      <td>True</td>\n",
       "      <td>False</td>\n",
       "      <td>True</td>\n",
       "      <td>False</td>\n",
       "      <td>False</td>\n",
       "      <td>False</td>\n",
       "    </tr>\n",
       "    <tr>\n",
       "      <th>3</th>\n",
       "      <td>ABIPRAYA  TGP KSO</td>\n",
       "      <td>False</td>\n",
       "      <td>False</td>\n",
       "      <td>False</td>\n",
       "      <td>False</td>\n",
       "      <td>False</td>\n",
       "      <td>False</td>\n",
       "      <td>False</td>\n",
       "      <td>False</td>\n",
       "      <td>False</td>\n",
       "      <td>...</td>\n",
       "      <td>False</td>\n",
       "      <td>False</td>\n",
       "      <td>False</td>\n",
       "      <td>False</td>\n",
       "      <td>False</td>\n",
       "      <td>False</td>\n",
       "      <td>False</td>\n",
       "      <td>False</td>\n",
       "      <td>False</td>\n",
       "      <td>False</td>\n",
       "    </tr>\n",
       "    <tr>\n",
       "      <th>4</th>\n",
       "      <td>ABIPRAYA - DETA KSO</td>\n",
       "      <td>False</td>\n",
       "      <td>False</td>\n",
       "      <td>False</td>\n",
       "      <td>False</td>\n",
       "      <td>False</td>\n",
       "      <td>False</td>\n",
       "      <td>False</td>\n",
       "      <td>False</td>\n",
       "      <td>False</td>\n",
       "      <td>...</td>\n",
       "      <td>False</td>\n",
       "      <td>False</td>\n",
       "      <td>False</td>\n",
       "      <td>False</td>\n",
       "      <td>False</td>\n",
       "      <td>False</td>\n",
       "      <td>False</td>\n",
       "      <td>False</td>\n",
       "      <td>False</td>\n",
       "      <td>False</td>\n",
       "    </tr>\n",
       "  </tbody>\n",
       "</table>\n",
       "<p>5 rows × 306 columns</p>\n",
       "</div>"
      ],
      "text/plain": [
       "                                     Nama Perusahaan  10 MBPS  100 MBPS  \\\n",
       "0   KANTOR PERTANAHAN KAB. PURWOREJO SEKRETARIAT ...    False     False   \n",
       "1                              PT BERKAT KASIH MULIA    False     False   \n",
       "2                           ABID INFOTAMA KOMPUTINDO    False     False   \n",
       "3                                  ABIPRAYA  TGP KSO    False     False   \n",
       "4                                ABIPRAYA - DETA KSO    False     False   \n",
       "\n",
       "   100MBPS  20 MBPS  50 MBPS      A  ACCESS BROADBAND  ACCESS CORPORATE  \\\n",
       "0    False    False    False  False             False             False   \n",
       "1    False    False    False  False             False             False   \n",
       "2    False    False    False  False             False             False   \n",
       "3    False    False    False  False             False             False   \n",
       "4    False    False    False  False             False             False   \n",
       "\n",
       "   ACCESS IIX  ...  VOUCHER PLN MOBILE    VPN  WIFI, ETC.)  WIFIN INFRA  \\\n",
       "0       False  ...               False  False        False        False   \n",
       "1       False  ...               False  False        False        False   \n",
       "2       False  ...               False  False        False        False   \n",
       "3       False  ...               False  False        False        False   \n",
       "4       False  ...               False  False        False        False   \n",
       "\n",
       "     WIN  WIN HIGH  WIN MEDIUM  WIN PROJECT BASED  WINDOWS 10 PRO   ZOOM  \n",
       "0  False     False       False              False           False  False  \n",
       "1  False     False       False              False           False  False  \n",
       "2   True     False        True              False           False  False  \n",
       "3  False     False       False              False           False  False  \n",
       "4  False     False       False              False           False  False  \n",
       "\n",
       "[5 rows x 306 columns]"
      ]
     },
     "execution_count": 74,
     "metadata": {},
     "output_type": "execute_result"
    }
   ],
   "source": [
    "# Hasil akhir\n",
    "df_pivot.head()"
   ]
  },
  {
   "cell_type": "code",
   "execution_count": 75,
   "id": "f03f2c9a",
   "metadata": {},
   "outputs": [
    {
     "data": {
      "text/plain": [
       "Nama Perusahaan      object\n",
       "10 MBPS                bool\n",
       "100 MBPS               bool\n",
       "100MBPS                bool\n",
       "20 MBPS                bool\n",
       "                      ...  \n",
       "WIN HIGH               bool\n",
       "WIN MEDIUM             bool\n",
       "WIN PROJECT BASED      bool\n",
       "WINDOWS 10 PRO         bool\n",
       "ZOOM                   bool\n",
       "Length: 306, dtype: object"
      ]
     },
     "execution_count": 75,
     "metadata": {},
     "output_type": "execute_result"
    }
   ],
   "source": [
    "df_pivot.dtypes"
   ]
  }
 ],
 "metadata": {
  "kernelspec": {
   "display_name": "Python 3",
   "language": "python",
   "name": "python3"
  },
  "language_info": {
   "codemirror_mode": {
    "name": "ipython",
    "version": 3
   },
   "file_extension": ".py",
   "mimetype": "text/x-python",
   "name": "python",
   "nbconvert_exporter": "python",
   "pygments_lexer": "ipython3",
   "version": "3.13.2"
  }
 },
 "nbformat": 4,
 "nbformat_minor": 5
}
