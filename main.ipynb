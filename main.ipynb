{
 "cells": [
  {
   "cell_type": "code",
   "execution_count": 1,
   "id": "e16da1b3",
   "metadata": {},
   "outputs": [
    {
     "name": "stdout",
     "output_type": "stream",
     "text": [
      "Scikit-learn imported successfully!\n"
     ]
    }
   ],
   "source": [
    "import sklearn\n",
    "print(\"Scikit-learn imported successfully!\")"
   ]
  },
  {
   "cell_type": "code",
   "execution_count": 8,
   "id": "1cb38a32",
   "metadata": {},
   "outputs": [],
   "source": [
    "import pandas as pd\n",
    "\n",
    "\n"
   ]
  },
  {
   "cell_type": "code",
   "execution_count": 28,
   "id": "47aedd4c",
   "metadata": {},
   "outputs": [
    {
     "name": "stdout",
     "output_type": "stream",
     "text": [
      "          Nama Perusahaan                                            Layanan\n",
      "0  PT WISATA SAPTA PESONA                                 INTERNET CORPORATE\n",
      "1  PT WISATA SAPTA PESONA  INTERNET CORPORATE / PENAMBAHAN IPV4 PUBLIK IN...\n",
      "2  PT WISATA SAPTA PESONA  INTERNET CORPORATE / PENAMBAHAN IPV4 PUBLIK IN...\n",
      "3  PT WISATA SAPTA PESONA  INTERNET CORPORATE / PROFESIONAL SERVICE WHITE...\n",
      "4  PT WISATA SAPTA PESONA  INTERNET CORPORATE / PROFESIONAL SERVICE WHITE...\n"
     ]
    }
   ],
   "source": [
    "#Membaca File Excel\n",
    "df = pd.read_excel('data-test.xlsx')\n",
    "print(df.head(5))\n"
   ]
  },
  {
   "cell_type": "code",
   "execution_count": 29,
   "id": "e2a8d1bd",
   "metadata": {},
   "outputs": [
    {
     "name": "stdout",
     "output_type": "stream",
     "text": [
      "0         False\n",
      "1         False\n",
      "2          True\n",
      "3         False\n",
      "4          True\n",
      "          ...  \n",
      "845471     True\n",
      "845472     True\n",
      "845473     True\n",
      "845474    False\n",
      "845475     True\n",
      "Length: 845476, dtype: bool\n"
     ]
    }
   ],
   "source": [
    "#Memeriksa duplicate\n",
    "#kita hanya butuh cek 1x aja produk tersebut di order apa tidak\n",
    "\n",
    "is_df_duplicate= df.duplicated()\n",
    "print(is_df_duplicate)\n",
    "\n"
   ]
  },
  {
   "cell_type": "code",
   "execution_count": 30,
   "id": "ebe689a1",
   "metadata": {},
   "outputs": [
    {
     "name": "stdout",
     "output_type": "stream",
     "text": [
      "                                          Nama Perusahaan  \\\n",
      "0                                  PT WISATA SAPTA PESONA   \n",
      "1                                  PT WISATA SAPTA PESONA   \n",
      "3                                  PT WISATA SAPTA PESONA   \n",
      "5                             PT. CIMB NIAGA AUTO FINANCE   \n",
      "6                             PT. CIMB NIAGA AUTO FINANCE   \n",
      "...                                                   ...   \n",
      "845445  BADAN PENGELOLAAN KEUANGAN DAN ASET DAERAH KOT...   \n",
      "845447  BADAN KEPEGAWAIAN DAN PENGEMBANGAN SUMBER DAYA...   \n",
      "845456                                    ZOOM BPN SULSEL   \n",
      "845457                     DISKOMINFO KABUPATEN GORONTALO   \n",
      "845474                                PT. ELNUSA PETROFIN   \n",
      "\n",
      "                                                  Layanan  \n",
      "0                                      INTERNET CORPORATE  \n",
      "1       INTERNET CORPORATE / PENAMBAHAN IPV4 PUBLIK IN...  \n",
      "3       INTERNET CORPORATE / PROFESIONAL SERVICE WHITE...  \n",
      "5       INTERNET CORPORATE / PROFESIONAL SERVICE WHITE...  \n",
      "6                                      INTERNET CORPORATE  \n",
      "...                                                   ...  \n",
      "845445                                                NaN  \n",
      "845447                                                NaN  \n",
      "845456                                                NaN  \n",
      "845457                                                NaN  \n",
      "845474                                                NaN  \n",
      "\n",
      "[21165 rows x 2 columns]\n"
     ]
    }
   ],
   "source": [
    "#menghapus baris duplikat\n",
    "\n",
    "df_no_duplicates = df.drop_duplicates()\n",
    "print(df_no_duplicates)"
   ]
  },
  {
   "cell_type": "code",
   "execution_count": 31,
   "id": "55bc791b",
   "metadata": {},
   "outputs": [
    {
     "data": {
      "text/html": [
       "<div>\n",
       "<style scoped>\n",
       "    .dataframe tbody tr th:only-of-type {\n",
       "        vertical-align: middle;\n",
       "    }\n",
       "\n",
       "    .dataframe tbody tr th {\n",
       "        vertical-align: top;\n",
       "    }\n",
       "\n",
       "    .dataframe thead th {\n",
       "        text-align: right;\n",
       "    }\n",
       "</style>\n",
       "<table border=\"1\" class=\"dataframe\">\n",
       "  <thead>\n",
       "    <tr style=\"text-align: right;\">\n",
       "      <th></th>\n",
       "      <th>Nama Perusahaan</th>\n",
       "      <th>Layanan</th>\n",
       "    </tr>\n",
       "  </thead>\n",
       "  <tbody>\n",
       "    <tr>\n",
       "      <th>0</th>\n",
       "      <td>PT WISATA SAPTA PESONA</td>\n",
       "      <td>INTERNET CORPORATE</td>\n",
       "    </tr>\n",
       "    <tr>\n",
       "      <th>1</th>\n",
       "      <td>PT WISATA SAPTA PESONA</td>\n",
       "      <td>INTERNET CORPORATE / PENAMBAHAN IPV4 PUBLIK IN...</td>\n",
       "    </tr>\n",
       "    <tr>\n",
       "      <th>3</th>\n",
       "      <td>PT WISATA SAPTA PESONA</td>\n",
       "      <td>INTERNET CORPORATE / PROFESIONAL SERVICE WHITE...</td>\n",
       "    </tr>\n",
       "    <tr>\n",
       "      <th>5</th>\n",
       "      <td>PT. CIMB NIAGA AUTO FINANCE</td>\n",
       "      <td>INTERNET CORPORATE / PROFESIONAL SERVICE WHITE...</td>\n",
       "    </tr>\n",
       "    <tr>\n",
       "      <th>6</th>\n",
       "      <td>PT. CIMB NIAGA AUTO FINANCE</td>\n",
       "      <td>INTERNET CORPORATE</td>\n",
       "    </tr>\n",
       "  </tbody>\n",
       "</table>\n",
       "</div>"
      ],
      "text/plain": [
       "               Nama Perusahaan  \\\n",
       "0       PT WISATA SAPTA PESONA   \n",
       "1       PT WISATA SAPTA PESONA   \n",
       "3       PT WISATA SAPTA PESONA   \n",
       "5  PT. CIMB NIAGA AUTO FINANCE   \n",
       "6  PT. CIMB NIAGA AUTO FINANCE   \n",
       "\n",
       "                                             Layanan  \n",
       "0                                 INTERNET CORPORATE  \n",
       "1  INTERNET CORPORATE / PENAMBAHAN IPV4 PUBLIK IN...  \n",
       "3  INTERNET CORPORATE / PROFESIONAL SERVICE WHITE...  \n",
       "5  INTERNET CORPORATE / PROFESIONAL SERVICE WHITE...  \n",
       "6                                 INTERNET CORPORATE  "
      ]
     },
     "execution_count": 31,
     "metadata": {},
     "output_type": "execute_result"
    }
   ],
   "source": [
    "df_no_duplicates.head()"
   ]
  }
 ],
 "metadata": {
  "kernelspec": {
   "display_name": "Python 3",
   "language": "python",
   "name": "python3"
  },
  "language_info": {
   "codemirror_mode": {
    "name": "ipython",
    "version": 3
   },
   "file_extension": ".py",
   "mimetype": "text/x-python",
   "name": "python",
   "nbconvert_exporter": "python",
   "pygments_lexer": "ipython3",
   "version": "3.13.2"
  }
 },
 "nbformat": 4,
 "nbformat_minor": 5
}
